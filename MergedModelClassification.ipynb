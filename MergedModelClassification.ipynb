{
 "cells": [
  {
   "cell_type": "code",
   "execution_count": 1,
   "metadata": {},
   "outputs": [],
   "source": [
    "import glob\n",
    "import numpy as np\n",
    "import pandas as pd\n",
    "import seaborn as sns\n",
    "import matplotlib.pyplot as plt\n",
    "\n",
    "from PIL import Image\n",
    "from tqdm import tqdm\n",
    "from scipy import stats\n",
    "from sklearn.metrics import mean_squared_error, mean_absolute_error\n",
    "\n",
    "%matplotlib inline"
   ]
  },
  {
   "cell_type": "code",
   "execution_count": 2,
   "metadata": {},
   "outputs": [
    {
     "name": "stderr",
     "output_type": "stream",
     "text": [
      "Using TensorFlow backend.\n"
     ]
    }
   ],
   "source": [
    "import keras\n",
    "from keras.datasets import mnist\n",
    "from keras.models import Sequential, Model\n",
    "from keras.layers import Dense, Dropout, Flatten, BatchNormalization, Concatenate, Input, concatenate, Activation\n",
    "from keras.layers import Conv2D, AveragePooling2D, MaxPooling2D\n",
    "from keras import backend as K\n",
    "\n",
    "from sklearn.model_selection import train_test_split\n",
    "\n",
    "def coeff_determination(y_true, y_pred):\n",
    "    SS_res =  K.sum(K.square( y_true-y_pred )) \n",
    "    SS_tot = K.sum(K.square( y_true - K.mean(y_true) ) ) \n",
    "    return ( 1 - SS_res/(SS_tot + K.epsilon()) )\n",
    "\n",
    "import tensorflow as tf\n",
    "sess = tf.Session(config=tf.ConfigProto(log_device_placement=True))"
   ]
  },
  {
   "cell_type": "code",
   "execution_count": 4,
   "metadata": {},
   "outputs": [],
   "source": [
    "# load the files\n",
    "houselist = glob.glob('HousesDataset/*.jpg')\n",
    "\n",
    "image_data = []\n",
    "for fname in houselist:\n",
    "    image_name = fname.split('/')[1].split('.')[0]\n",
    "    image_data.append((image_name, Image.open(fname)))\n",
    "    pass\n",
    "\n",
    "text_data = pd.read_csv('HousesDataset/HousesInfo.txt', sep=' ',\n",
    "                        names=[\"nBeds\", \"nbaths\", \"area\", \"zipcode\", \"price\"])"
   ]
  },
  {
   "cell_type": "code",
   "execution_count": 147,
   "metadata": {},
   "outputs": [
    {
     "name": "stderr",
     "output_type": "stream",
     "text": [
      "100%|██████████| 2140/2140 [00:01<00:00, 1089.61it/s]\n"
     ]
    }
   ],
   "source": [
    "row, col = 64, 64\n",
    "X11 = np.zeros((535, row, col, 3)).astype(int)\n",
    "X12 = np.zeros((535, row, col, 3)).astype(int)\n",
    "X13 = np.zeros((535, row, col, 3)).astype(int)\n",
    "X14 = np.zeros((535, row, col, 3)).astype(int)\n",
    "for name, image in tqdm(image_data):\n",
    "    index, room = name.split('_')\n",
    "    if room == \"bathroom\":\n",
    "        X11[int(index) - 1, :, :] = np.array(image.resize((row, col)))\n",
    "    elif room == \"bedroom\":\n",
    "        X12[int(index) - 1, :, :] = np.array(image.resize((row, col)))\n",
    "    elif room == \"frontal\":\n",
    "        X13[int(index) - 1, :, :] = np.array(image.resize((row, col)))\n",
    "    else:\n",
    "        X14[int(index) - 1, :, :] = np.array(image.resize((row, col)))"
   ]
  },
  {
   "cell_type": "code",
   "execution_count": 148,
   "metadata": {},
   "outputs": [
    {
     "data": {
      "text/plain": [
       "<matplotlib.image.AxesImage at 0x26e6dfb70>"
      ]
     },
     "execution_count": 148,
     "metadata": {},
     "output_type": "execute_result"
    },
    {
     "data": {
      "image/png": "[encoded data removed]",
      "text/plain": [
       "<Figure size 432x288 with 1 Axes>"
      ]
     },
     "metadata": {
      "needs_background": "light"
     },
     "output_type": "display_data"
    }
   ],
   "source": [
    "plt.imshow(X11[0])"
   ]
  },
  {
   "cell_type": "code",
   "execution_count": 149,
   "metadata": {},
   "outputs": [],
   "source": [
    "text_array = np.zeros((535, 5))\n",
    "for i, text in text_data.iterrows():\n",
    "    text_array[i] = text.values"
   ]
  },
  {
   "cell_type": "code",
   "execution_count": 150,
   "metadata": {},
   "outputs": [],
   "source": [
    "X2 = text_array[:, :3]\n",
    "y = text_array[:, -1]\n",
    "y_class = np.where(y > 700000, 1, 0)"
   ]
  },
  {
   "cell_type": "code",
   "execution_count": 151,
   "metadata": {},
   "outputs": [],
   "source": [
    "shuffle = np.arange(len(y))\n",
    "np.random.shuffle(shuffle)\n",
    "\n",
    "X11 = X11[shuffle]\n",
    "X12 = X12[shuffle]\n",
    "X13 = X13[shuffle]\n",
    "X14 = X14[shuffle]\n",
    "X2 = X2[shuffle]\n",
    "y_class = y_class[shuffle]\n",
    "\n",
    "split_inedx = 430\n",
    "\n",
    "x11_train = X11[:split_inedx]\n",
    "x12_train = X12[:split_inedx]\n",
    "x13_train = X13[:split_inedx]\n",
    "x14_train = X14[:split_inedx]\n",
    "x2_train = X2[:split_inedx]\n",
    "y_train = y_class[:split_inedx]\n",
    "\n",
    "x11_test = X11[split_inedx:]\n",
    "x12_test = X12[split_inedx:]\n",
    "x13_test = X13[split_inedx:]\n",
    "x14_test = X14[split_inedx:]\n",
    "x2_test = X2[split_inedx:]\n",
    "y_test = y_class[split_inedx:]\n",
    "\n",
    "x2_min = np.min(x2_train, axis=0)\n",
    "x2_max = np.max(x2_train, axis=0)\n",
    "x2_train = (x2_train - x2_min) / (x2_max - x2_min)\n",
    "x2_test = (x2_test - x2_min) / (x2_max - x2_min)"
   ]
  },
  {
   "cell_type": "code",
   "execution_count": 152,
   "metadata": {},
   "outputs": [],
   "source": [
    "# cnn model\n",
    "def visual_model(input_layer):\n",
    "    conv1 = Conv2D(16, kernel_size=(3, 3), activation='relu')(input_layer)\n",
    "    bat1 = BatchNormalization()(conv1)\n",
    "    pool1 = MaxPooling2D(pool_size=(2, 2))(bat1)\n",
    "    flat = Flatten()(pool1)\n",
    "    x = Dense(8)(flat)\n",
    "    x = Activation(\"relu\")(x)\n",
    "    x = BatchNormalization(axis=-1)(x)\n",
    "    x = Dropout(0.5)(x)\n",
    "    \n",
    "    x = Dense(4)(x)\n",
    "    x = Activation(\"relu\")(x)\n",
    "    return x"
   ]
  },
  {
   "cell_type": "code",
   "execution_count": 153,
   "metadata": {},
   "outputs": [],
   "source": [
    "# visual features (cnn)\n",
    "visual_input1 = Input(shape=(row, col, 3), name='visual_input1')\n",
    "visual1 = visual_model(visual_input1)\n",
    "\n",
    "visual_input2 = Input(shape=(row, col, 3), name='visual_input2')\n",
    "visual2 = visual_model(visual_input2)\n",
    "\n",
    "visual_input3 = Input(shape=(row, col, 3), name='visual_input3')\n",
    "visual3 = visual_model(visual_input3)\n",
    "\n",
    "visual_input4 = Input(shape=(row, col, 3), name='visual_input4')\n",
    "visual4 = visual_model(visual_input4)\n",
    "\n",
    "# textual features (mlp)\n",
    "textual_input = Input(shape=(3,), name='textual_input')\n",
    "\n",
    "# merge visual and textual layers\n",
    "x = keras.layers.concatenate([visual1, visual2, visual3, visual4, textual_input])\n",
    "# fully connectied\n",
    "x = Dense(16, activation='relu')(x)\n",
    "x = Dropout(0.5)(x)\n",
    "\n",
    "# output\n",
    "main_output = Dense(1, activation='sigmoid', name='main_output')(x)"
   ]
  },
  {
   "cell_type": "code",
   "execution_count": 154,
   "metadata": {},
   "outputs": [
    {
     "name": "stdout",
     "output_type": "stream",
     "text": [
      "Train on 344 samples, validate on 86 samples\n",
      "Epoch 1/20\n",
      "344/344 [==============================] - 13s 36ms/step - loss: 0.7064 - acc: 0.5756 - val_loss: 0.6523 - val_acc: 0.6860\n",
      "Epoch 2/20\n",
      "344/344 [==============================] - 3s 8ms/step - loss: 0.7046 - acc: 0.5843 - val_loss: 0.6320 - val_acc: 0.7326\n",
      "Epoch 3/20\n",
      "344/344 [==============================] - 3s 8ms/step - loss: 0.6666 - acc: 0.6192 - val_loss: 0.6317 - val_acc: 0.6977\n",
      "Epoch 4/20\n",
      "344/344 [==============================] - 3s 8ms/step - loss: 0.6570 - acc: 0.6163 - val_loss: 0.6143 - val_acc: 0.7209\n",
      "Epoch 5/20\n",
      "344/344 [==============================] - 3s 8ms/step - loss: 0.6025 - acc: 0.6628 - val_loss: 0.5913 - val_acc: 0.7558\n",
      "Epoch 6/20\n",
      "344/344 [==============================] - 3s 8ms/step - loss: 0.6202 - acc: 0.6919 - val_loss: 0.5842 - val_acc: 0.7558\n",
      "Epoch 7/20\n",
      "344/344 [==============================] - 3s 8ms/step - loss: 0.5722 - acc: 0.6977 - val_loss: 0.5823 - val_acc: 0.7674\n",
      "Epoch 8/20\n",
      "344/344 [==============================] - 3s 8ms/step - loss: 0.5734 - acc: 0.7209 - val_loss: 0.5727 - val_acc: 0.7674\n",
      "Epoch 9/20\n",
      "344/344 [==============================] - 3s 9ms/step - loss: 0.5137 - acc: 0.7413 - val_loss: 0.5716 - val_acc: 0.7674\n",
      "Epoch 10/20\n",
      "344/344 [==============================] - 3s 9ms/step - loss: 0.5336 - acc: 0.7384 - val_loss: 0.5661 - val_acc: 0.7674\n",
      "Epoch 11/20\n",
      "344/344 [==============================] - 3s 8ms/step - loss: 0.4892 - acc: 0.7471 - val_loss: 0.5657 - val_acc: 0.7791\n",
      "Epoch 12/20\n",
      "344/344 [==============================] - 3s 8ms/step - loss: 0.5184 - acc: 0.7122 - val_loss: 0.5568 - val_acc: 0.7442\n",
      "Epoch 13/20\n",
      "344/344 [==============================] - 3s 9ms/step - loss: 0.4926 - acc: 0.7529 - val_loss: 0.5476 - val_acc: 0.7674\n",
      "Epoch 14/20\n",
      "344/344 [==============================] - 3s 8ms/step - loss: 0.4519 - acc: 0.7645 - val_loss: 0.5418 - val_acc: 0.7674\n",
      "Epoch 15/20\n",
      "344/344 [==============================] - 3s 9ms/step - loss: 0.4891 - acc: 0.7180 - val_loss: 0.5415 - val_acc: 0.7907\n",
      "Epoch 16/20\n",
      "344/344 [==============================] - 3s 9ms/step - loss: 0.4181 - acc: 0.8052 - val_loss: 0.5356 - val_acc: 0.7791\n",
      "Epoch 17/20\n",
      "344/344 [==============================] - 3s 9ms/step - loss: 0.4591 - acc: 0.7878 - val_loss: 0.5384 - val_acc: 0.7907\n",
      "Epoch 18/20\n",
      "344/344 [==============================] - 3s 8ms/step - loss: 0.4305 - acc: 0.7820 - val_loss: 0.5392 - val_acc: 0.7907\n",
      "Epoch 19/20\n",
      "344/344 [==============================] - 3s 9ms/step - loss: 0.4085 - acc: 0.8023 - val_loss: 0.5505 - val_acc: 0.7558\n",
      "Epoch 20/20\n",
      "344/344 [==============================] - 3s 8ms/step - loss: 0.4052 - acc: 0.7849 - val_loss: 0.5485 - val_acc: 0.7674\n"
     ]
    },
    {
     "data": {
      "text/plain": [
       "<keras.callbacks.History at 0x26e6dff98>"
      ]
     },
     "execution_count": 154,
     "metadata": {},
     "output_type": "execute_result"
    }
   ],
   "source": [
    "model = Model(inputs=[visual_input1, visual_input2, visual_input3, visual_input4, textual_input], outputs=main_output)\n",
    "model.compile(optimizer=\"adamax\",\n",
    "              loss={'main_output': 'binary_crossentropy'}, metrics={'main_output': [\"accuracy\"]})\n",
    "\n",
    "model.fit([x11_train, x12_train, x13_train, x14_train, x2_train], y_train,\n",
    "          validation_split=0.2, \n",
    "          shuffle=True,\n",
    "          epochs=20, \n",
    "          batch_size=32)"
   ]
  },
  {
   "cell_type": "code",
   "execution_count": 155,
   "metadata": {},
   "outputs": [],
   "source": [
    "y_hat = model.predict([x11_test, x12_test, x13_test, x14_test, x2_test])"
   ]
  },
  {
   "cell_type": "code",
   "execution_count": 156,
   "metadata": {},
   "outputs": [
    {
     "name": "stdout",
     "output_type": "stream",
     "text": [
      "roc:  0.6892014519056261\n",
      "threshold:  0.38370174\n"
     ]
    }
   ],
   "source": [
    "from sklearn.metrics import roc_auc_score, roc_curve\n",
    "fpr, tpr, thresholds = roc_curve(y_test, y_hat)\n",
    "print(\"roc: \", roc_auc_score(y_test, y_hat))\n",
    "\n",
    "optimal_idx = np.argmax(tpr - fpr)\n",
    "optimal_threshold = thresholds[optimal_idx]\n",
    "print(\"threshold: \", optimal_threshold)"
   ]
  },
  {
   "cell_type": "code",
   "execution_count": 157,
   "metadata": {},
   "outputs": [
    {
     "name": "stdout",
     "output_type": "stream",
     "text": [
      "y:  0 , y_hat:  1\n",
      "y:  0 , y_hat:  1\n",
      "y:  0 , y_hat:  0\n",
      "y:  0 , y_hat:  0\n",
      "y:  0 , y_hat:  0\n",
      "y:  0 , y_hat:  1\n",
      "y:  1 , y_hat:  1\n",
      "y:  0 , y_hat:  0\n",
      "y:  1 , y_hat:  0\n",
      "y:  1 , y_hat:  1\n",
      "y:  1 , y_hat:  1\n",
      "y:  0 , y_hat:  0\n",
      "y:  1 , y_hat:  0\n",
      "y:  1 , y_hat:  1\n",
      "y:  0 , y_hat:  0\n",
      "y:  0 , y_hat:  0\n",
      "y:  0 , y_hat:  0\n",
      "y:  0 , y_hat:  0\n",
      "y:  0 , y_hat:  1\n",
      "y:  1 , y_hat:  1\n",
      "y:  0 , y_hat:  0\n",
      "y:  0 , y_hat:  0\n",
      "y:  1 , y_hat:  0\n",
      "y:  0 , y_hat:  0\n",
      "y:  0 , y_hat:  1\n",
      "y:  0 , y_hat:  1\n",
      "y:  0 , y_hat:  0\n",
      "y:  0 , y_hat:  0\n",
      "y:  0 , y_hat:  1\n",
      "y:  0 , y_hat:  0\n",
      "y:  0 , y_hat:  1\n",
      "y:  0 , y_hat:  0\n",
      "y:  1 , y_hat:  1\n",
      "y:  0 , y_hat:  0\n",
      "y:  0 , y_hat:  1\n",
      "y:  0 , y_hat:  0\n",
      "y:  0 , y_hat:  0\n",
      "y:  0 , y_hat:  1\n",
      "y:  0 , y_hat:  0\n",
      "y:  0 , y_hat:  0\n",
      "y:  0 , y_hat:  0\n",
      "y:  0 , y_hat:  0\n",
      "y:  1 , y_hat:  0\n",
      "y:  0 , y_hat:  0\n",
      "y:  0 , y_hat:  0\n",
      "y:  0 , y_hat:  0\n",
      "y:  0 , y_hat:  1\n",
      "y:  0 , y_hat:  0\n",
      "y:  0 , y_hat:  0\n",
      "y:  1 , y_hat:  0\n",
      "y:  0 , y_hat:  1\n",
      "y:  0 , y_hat:  0\n",
      "y:  0 , y_hat:  0\n",
      "y:  0 , y_hat:  0\n",
      "y:  1 , y_hat:  1\n",
      "y:  0 , y_hat:  0\n",
      "y:  1 , y_hat:  1\n",
      "y:  1 , y_hat:  1\n",
      "y:  0 , y_hat:  0\n",
      "y:  1 , y_hat:  1\n",
      "y:  1 , y_hat:  0\n",
      "y:  1 , y_hat:  0\n",
      "y:  0 , y_hat:  0\n",
      "y:  0 , y_hat:  0\n",
      "y:  1 , y_hat:  0\n",
      "y:  1 , y_hat:  1\n",
      "y:  0 , y_hat:  0\n",
      "y:  0 , y_hat:  0\n",
      "y:  1 , y_hat:  1\n",
      "y:  0 , y_hat:  0\n",
      "y:  0 , y_hat:  0\n",
      "y:  0 , y_hat:  0\n",
      "y:  0 , y_hat:  1\n",
      "y:  0 , y_hat:  1\n",
      "y:  0 , y_hat:  0\n",
      "y:  0 , y_hat:  0\n",
      "y:  0 , y_hat:  0\n",
      "y:  1 , y_hat:  0\n",
      "y:  1 , y_hat:  0\n",
      "y:  1 , y_hat:  1\n",
      "y:  0 , y_hat:  0\n",
      "y:  0 , y_hat:  0\n",
      "y:  0 , y_hat:  0\n",
      "y:  0 , y_hat:  1\n",
      "y:  0 , y_hat:  0\n",
      "y:  1 , y_hat:  0\n",
      "y:  1 , y_hat:  0\n",
      "y:  0 , y_hat:  0\n",
      "y:  0 , y_hat:  0\n",
      "y:  0 , y_hat:  0\n",
      "y:  0 , y_hat:  1\n",
      "y:  0 , y_hat:  0\n",
      "y:  1 , y_hat:  1\n",
      "y:  1 , y_hat:  1\n",
      "y:  0 , y_hat:  0\n",
      "y:  0 , y_hat:  0\n",
      "y:  1 , y_hat:  1\n",
      "y:  0 , y_hat:  0\n",
      "y:  0 , y_hat:  0\n",
      "y:  1 , y_hat:  1\n",
      "y:  0 , y_hat:  0\n",
      "y:  0 , y_hat:  0\n",
      "y:  0 , y_hat:  1\n",
      "y:  0 , y_hat:  1\n",
      "y:  0 , y_hat:  0\n"
     ]
    }
   ],
   "source": [
    "for y1, y2 in zip(y_class[split_inedx:], np.where(y_hat.ravel() > optimal_threshold, 1, 0)):\n",
    "    print(\"y: \",y1, \", y_hat: \", y2)"
   ]
  },
  {
   "cell_type": "code",
   "execution_count": null,
   "metadata": {},
   "outputs": [],
   "source": []
  }
 ],
 "metadata": {
  "kernelspec": {
   "display_name": "Python 3",
   "language": "python",
   "name": "python3"
  },
  "language_info": {
   "codemirror_mode": {
    "name": "ipython",
    "version": 3
   },
   "file_extension": ".py",
   "mimetype": "text/x-python",
   "name": "python",
   "nbconvert_exporter": "python",
   "pygments_lexer": "ipython3",
   "version": "3.6.7"
  }
 },
 "nbformat": 4,
 "nbformat_minor": 2
}
