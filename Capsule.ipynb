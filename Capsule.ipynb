{
 "cells": [
  {
   "cell_type": "code",
   "execution_count": 1,
   "metadata": {},
   "outputs": [],
   "source": [
    "import glob\n",
    "import numpy as np\n",
    "import pandas as pd\n",
    "import matplotlib.pyplot as plt\n",
    "\n",
    "from PIL import Image\n",
    "from tqdm import tqdm\n",
    "\n",
    "%matplotlib inline"
   ]
  },
  {
   "cell_type": "code",
   "execution_count": 2,
   "metadata": {},
   "outputs": [
    {
     "name": "stderr",
     "output_type": "stream",
     "text": [
      "Using TensorFlow backend.\n"
     ]
    }
   ],
   "source": [
    "import keras\n",
    "from keras.datasets import mnist\n",
    "from keras.models import Sequential\n",
    "from keras.layers import Dense, Dropout, Flatten\n",
    "from keras.layers import Conv2D, MaxPooling2D\n",
    "from keras import backend as K\n",
    "\n",
    "from sklearn.model_selection import train_test_split"
   ]
  },
  {
   "cell_type": "code",
   "execution_count": 3,
   "metadata": {},
   "outputs": [],
   "source": [
    "# load the files\n",
    "houselist = glob.glob('HousesDataset/*.jpg')\n",
    "\n",
    "image_data = []\n",
    "for fname in houselist:\n",
    "    image_name = fname.split('\\\\')[1].split('.')[0]\n",
    "    image_data.append((image_name, Image.open(fname)))\n",
    "    pass\n",
    "\n",
    "text_data = pd.read_csv('HousesDataset/HousesInfo.txt', sep=' ',\n",
    "                        names=[\"nBeds\", \"nbaths\", \"area\", \"zipcode\", \"price\"])"
   ]
  },
  {
   "cell_type": "code",
   "execution_count": 4,
   "metadata": {},
   "outputs": [
    {
     "name": "stderr",
     "output_type": "stream",
     "text": [
      "100%|█████████████████████████████████████████████████████████████████████████████| 2140/2140 [00:17<00:00, 100.70it/s]\n"
     ]
    }
   ],
   "source": [
    "image_same_size = []\n",
    "for name, image in tqdm(image_data):\n",
    "    image_same_size.append((name, image.resize((300, 300))))"
   ]
  },
  {
   "cell_type": "code",
   "execution_count": 4,
   "metadata": {},
   "outputs": [
    {
     "name": "stderr",
     "output_type": "stream",
     "text": [
      "100%|█████████████████████████████████████████████████████████████████████████████████████████████████| 2140/2140 [00:17<00:00, 125.46it/s]\n"
     ]
    }
   ],
   "source": [
    "row, col = 30, 30\n",
    "X = np.zeros((535, row, col, 12)).astype(int)\n",
    "for name, image in tqdm(image_data):\n",
    "    index, room = name.split('_')\n",
    "    if room == \"bathroom\":\n",
    "        X[int(index) - 1, :, :, 0:3] = np.array(image.resize((row, col)))\n",
    "    elif room == \"bedroom\":\n",
    "        X[int(index) - 1, :, :, 3:6] = np.array(image.resize((row, col)))\n",
    "    elif room == \"frontal\":\n",
    "        X[int(index) - 1, :, :, 6:9] = np.array(image.resize((row, col)))\n",
    "    else:\n",
    "        X[int(index) - 1, :, :, 9:12] = np.array(image.resize((row, col)))"
   ]
  },
  {
   "cell_type": "code",
   "execution_count": 6,
   "metadata": {},
   "outputs": [
    {
     "data": {
      "text/plain": [
       "<matplotlib.image.AxesImage at 0x27b0cc9d5f8>"
      ]
     },
     "execution_count": 6,
     "metadata": {},
     "output_type": "execute_result"
    },
    {
     "data": {
      "image/png": "[encoded data removed]",
      "text/plain": [
       "<Figure size 432x288 with 1 Axes>"
      ]
     },
     "metadata": {
      "needs_background": "light"
     },
     "output_type": "display_data"
    }
   ],
   "source": [
    "plt.imshow(X[0, :, :, 0:3])"
   ]
  },
  {
   "cell_type": "code",
   "execution_count": 7,
   "metadata": {},
   "outputs": [],
   "source": [
    "text_array = np.zeros((535, 5))\n",
    "for i, text in text_data.iterrows():\n",
    "    text_array[i] = text.values"
   ]
  },
  {
   "cell_type": "code",
   "execution_count": 9,
   "metadata": {},
   "outputs": [
    {
     "name": "stdout",
     "output_type": "stream",
     "text": [
      "WARNING:tensorflow:From C:\\Users\\Zhenhua Wang\\Anaconda\\envs\\tf_gpu\\lib\\site-packages\\tensorflow\\python\\ops\\math_ops.py:3066: to_int32 (from tensorflow.python.ops.math_ops) is deprecated and will be removed in a future version.\n",
      "Instructions for updating:\n",
      "Use tf.cast instead.\n",
      "Train on 358 samples, validate on 177 samples\n",
      "Epoch 1/100\n",
      "358/358 [==============================] - 6s 17ms/step - loss: 278069234158.9595 - val_loss: 311163207740.6328\n",
      "Epoch 2/100\n",
      "358/358 [==============================] - 2s 5ms/step - loss: 249430098318.9888 - val_loss: 313461764403.1638\n",
      "Epoch 3/100\n",
      "358/358 [==============================] - 2s 5ms/step - loss: 255509689924.2486 - val_loss: 311456478891.2486\n",
      "Epoch 4/100\n",
      "358/358 [==============================] - 2s 5ms/step - loss: 258254043705.0970 - val_loss: 310912107247.5918\n",
      "Epoch 5/100\n",
      "358/358 [==============================] - 2s 5ms/step - loss: 254938161974.9401 - val_loss: 311429617430.5922\n",
      "Epoch 6/100\n",
      "358/358 [==============================] - 2s 5ms/step - loss: 247157130786.7019 - val_loss: 320537887210.0283\n",
      "Epoch 7/100\n",
      "358/358 [==============================] - 2s 5ms/step - loss: 249148789883.7926 - val_loss: 311261174400.0113\n",
      "Epoch 8/100\n",
      "358/358 [==============================] - 2s 5ms/step - loss: 238101008734.8408 - val_loss: 315555771597.5255\n",
      "Epoch 9/100\n",
      "358/358 [==============================] - 2s 5ms/step - loss: 239768718533.2961 - val_loss: 311427574844.1519\n",
      "Epoch 10/100\n",
      "358/358 [==============================] - 2s 5ms/step - loss: 248347105095.2893 - val_loss: 312042507044.0417\n",
      "Epoch 11/100\n",
      "358/358 [==============================] - 2s 5ms/step - loss: 248469007196.5807 - val_loss: 311894685828.3540\n",
      "Epoch 12/100\n",
      "358/358 [==============================] - 2s 5ms/step - loss: 248060391545.9420 - val_loss: 313622654396.3333\n",
      "Epoch 13/100\n",
      "358/358 [==============================] - 2s 5ms/step - loss: 255971457119.3426 - val_loss: 312673443047.7740\n",
      "Epoch 14/100\n",
      "358/358 [==============================] - 2s 5ms/step - loss: 244208114257.4754 - val_loss: 314755325714.1589\n",
      "Epoch 15/100\n",
      "358/358 [==============================] - 2s 5ms/step - loss: 245894968840.8352 - val_loss: 313590272139.4633\n",
      "Epoch 16/100\n",
      "358/358 [==============================] - 2s 5ms/step - loss: 250218132652.4749 - val_loss: 313434780505.3220\n",
      "Epoch 17/100\n",
      "358/358 [==============================] - 2s 5ms/step - loss: 246632317877.8108 - val_loss: 315407976356.0766\n",
      "Epoch 18/100\n",
      "358/358 [==============================] - 2s 5ms/step - loss: 254013115735.1001 - val_loss: 315778945982.0847\n",
      "Epoch 19/100\n",
      "358/358 [==============================] - 2s 5ms/step - loss: 253244282595.4171 - val_loss: 316497962305.7034\n",
      "Epoch 20/100\n",
      "358/358 [==============================] - 2s 5ms/step - loss: 250528065199.8433 - val_loss: 324679498759.2507\n",
      "Epoch 21/100\n",
      "358/358 [==============================] - 2s 5ms/step - loss: 246130288689.0884 - val_loss: 316139155220.6109\n",
      "Epoch 22/100\n",
      "358/358 [==============================] - 2s 5ms/step - loss: 234828789842.9469 - val_loss: 316508444037.9630\n",
      "Epoch 23/100\n",
      "358/358 [==============================] - 2s 5ms/step - loss: 248404207080.8823 - val_loss: 315745759809.1950\n",
      "Epoch 24/100\n",
      "358/358 [==============================] - 2s 5ms/step - loss: 245781168241.8492 - val_loss: 316651009671.6884\n",
      "Epoch 25/100\n",
      "358/358 [==============================] - 2s 5ms/step - loss: 248752788910.8028 - val_loss: 319129728454.8347\n",
      "Epoch 26/100\n",
      "358/358 [==============================] - 2s 5ms/step - loss: 233742836017.5517 - val_loss: 319417820645.5607\n",
      "Epoch 27/100\n",
      "358/358 [==============================] - 2s 5ms/step - loss: 240378326100.4924 - val_loss: 319864355054.9859\n",
      "Epoch 28/100\n",
      "358/358 [==============================] - 2s 5ms/step - loss: 231981947878.9211 - val_loss: 318436197973.8164\n",
      "Epoch 29/100\n",
      "358/358 [==============================] - 2s 5ms/step - loss: 237228011623.7025 - val_loss: 327937161360.7037\n",
      "Epoch 30/100\n",
      "358/358 [==============================] - 2s 5ms/step - loss: 248607955361.1606 - val_loss: 320347156738.1469\n",
      "Epoch 31/100\n",
      "358/358 [==============================] - 2s 5ms/step - loss: 235687638829.2666 - val_loss: 387201684780.1462\n",
      "Epoch 32/100\n",
      "358/358 [==============================] - 2s 5ms/step - loss: 228667299100.9078 - val_loss: 323001698722.7076\n",
      "Epoch 33/100\n",
      "358/358 [==============================] - 2s 5ms/step - loss: 239055610949.9274 - val_loss: 327384877032.1451\n",
      "Epoch 34/100\n",
      "358/358 [==============================] - 2s 5ms/step - loss: 245023836695.7394 - val_loss: 322338876414.7797\n",
      "Epoch 35/100\n",
      "358/358 [==============================] - 2s 5ms/step - loss: 235998434207.0447 - val_loss: 322620825441.7175\n",
      "Epoch 36/100\n",
      "358/358 [==============================] - 2s 5ms/step - loss: 237364007226.0768 - val_loss: 346938705349.2429\n",
      "Epoch 37/100\n",
      "358/358 [==============================] - 2s 5ms/step - loss: 235689286928.2172 - val_loss: 326945886240.5424\n",
      "Epoch 38/100\n",
      "358/358 [==============================] - 2s 5ms/step - loss: 232984873961.6594 - val_loss: 324488460783.4929\n",
      "Epoch 39/100\n",
      "358/358 [==============================] - 2s 5ms/step - loss: 236751487850.8832 - val_loss: 325020873227.0734\n",
      "Epoch 40/100\n",
      "358/358 [==============================] - 2s 5ms/step - loss: 239736547663.0666 - val_loss: 324725219630.8333\n",
      "Epoch 41/100\n",
      "358/358 [==============================] - 2s 5ms/step - loss: 239274915459.5903 - val_loss: 334749351556.8917\n",
      "Epoch 42/100\n",
      "358/358 [==============================] - 2s 5ms/step - loss: 220535942988.6180 - val_loss: 326953099411.9077\n",
      "Epoch 43/100\n",
      "358/358 [==============================] - 2s 5ms/step - loss: 236568454501.9909 - val_loss: 326724982249.5028\n",
      "Epoch 44/100\n",
      "358/358 [==============================] - 2s 5ms/step - loss: 236735999107.2179 - val_loss: 328125759993.8022\n",
      "Epoch 45/100\n",
      "358/358 [==============================] - 2s 5ms/step - loss: 234513115446.6865 - val_loss: 335343292110.9153\n",
      "Epoch 46/100\n",
      "358/358 [==============================] - 2s 5ms/step - loss: 237443017180.9497 - val_loss: 329389848168.4498\n",
      "Epoch 47/100\n",
      "358/358 [==============================] - 2s 5ms/step - loss: 242692469387.9127 - val_loss: 339472506592.3594\n",
      "Epoch 48/100\n",
      "358/358 [==============================] - 2s 5ms/step - loss: 224583936353.9496 - val_loss: 328965781422.6917\n",
      "Epoch 49/100\n",
      "358/358 [==============================] - 2s 5ms/step - loss: 224051807325.2669 - val_loss: 338033136546.4745\n",
      "Epoch 50/100\n",
      "358/358 [==============================] - 2s 5ms/step - loss: 225847928428.9532 - val_loss: 328766493258.9039\n",
      "Epoch 51/100\n",
      "358/358 [==============================] - 2s 5ms/step - loss: 234469853057.8995 - val_loss: 328362351882.1370\n",
      "Epoch 52/100\n",
      "358/358 [==============================] - 2s 5ms/step - loss: 242283171995.0936 - val_loss: 332784041072.7797\n",
      "Epoch 53/100\n",
      "358/358 [==============================] - 2s 5ms/step - loss: 219231209221.0410 - val_loss: 343128650117.3107\n",
      "Epoch 54/100\n",
      "358/358 [==============================] - 2s 5ms/step - loss: 221143551106.9347 - val_loss: 331190667549.4181\n",
      "Epoch 55/100\n",
      "358/358 [==============================] - 2s 5ms/step - loss: 224963302689.0672 - val_loss: 334758269324.8107\n",
      "Epoch 56/100\n",
      "358/358 [==============================] - 2s 5ms/step - loss: 236618922753.2790 - val_loss: 337098064515.6836\n",
      "Epoch 57/100\n",
      "358/358 [==============================] - 2s 5ms/step - loss: 222320841178.4497 - val_loss: 344020515491.1871\n",
      "Epoch 58/100\n",
      "358/358 [==============================] - 2s 5ms/step - loss: 232556068511.6194 - val_loss: 332172041460.3285\n",
      "Epoch 59/100\n",
      "358/358 [==============================] - 2s 5ms/step - loss: 222346525314.3911 - val_loss: 330259444313.2769\n",
      "Epoch 60/100\n",
      "358/358 [==============================] - 2s 5ms/step - loss: 237534278781.3715 - val_loss: 335280466429.5424\n",
      "Epoch 61/100\n",
      "358/358 [==============================] - 2s 5ms/step - loss: 214973707408.1180 - val_loss: 335958095954.3926\n",
      "Epoch 62/100\n",
      "358/358 [==============================] - 2s 5ms/step - loss: 237415615307.8352 - val_loss: 334681544566.5602\n",
      "Epoch 63/100\n",
      "358/358 [==============================] - 2s 5ms/step - loss: 222911500613.6984 - val_loss: 345591646956.1130\n",
      "Epoch 64/100\n",
      "358/358 [==============================] - 2s 5ms/step - loss: 225942273993.6927 - val_loss: 336175789615.4929\n",
      "Epoch 65/100\n",
      "358/358 [==============================] - 2s 5ms/step - loss: 225858471757.8913 - val_loss: 334985447819.9896\n",
      "Epoch 66/100\n",
      "358/358 [==============================] - 2s 5ms/step - loss: 237494930811.0295 - val_loss: 331923980647.7465\n",
      "Epoch 67/100\n",
      "358/358 [==============================] - 2s 5ms/step - loss: 220660510081.9036 - val_loss: 346110243793.2656\n",
      "Epoch 68/100\n",
      "358/358 [==============================] - 2s 5ms/step - loss: 220062893307.7291 - val_loss: 336047223109.4696\n",
      "Epoch 69/100\n",
      "358/358 [==============================] - 2s 5ms/step - loss: 217542333461.6117 - val_loss: 347594307877.3330\n",
      "Epoch 70/100\n",
      "358/358 [==============================] - 2s 5ms/step - loss: 225761440287.7165 - val_loss: 334360777374.8157\n",
      "Epoch 71/100\n",
      "358/358 [==============================] - 2s 5ms/step - loss: 226190642333.6658 - val_loss: 334360273669.9345\n",
      "Epoch 72/100\n",
      "358/358 [==============================] - 2s 5ms/step - loss: 212137948025.9048 - val_loss: 353341051089.9661\n",
      "Epoch 73/100\n",
      "358/358 [==============================] - 2s 5ms/step - loss: 219071744524.7249 - val_loss: 333342138481.3956\n",
      "Epoch 74/100\n",
      "358/358 [==============================] - 2s 5ms/step - loss: 203537197175.9388 - val_loss: 350771358996.5311\n",
      "Epoch 75/100\n",
      "358/358 [==============================] - 2s 5ms/step - loss: 209656198177.9553 - val_loss: 334538716307.5763\n",
      "Epoch 76/100\n",
      "358/358 [==============================] - 2s 5ms/step - loss: 220340337273.3729 - val_loss: 332309007901.8722\n",
      "Epoch 77/100\n",
      "358/358 [==============================] - 2s 5ms/step - loss: 226895896776.2415 - val_loss: 345798244882.0508\n",
      "Epoch 78/100\n",
      "358/358 [==============================] - 2s 5ms/step - loss: 220415101873.1097 - val_loss: 335182959445.9965\n",
      "Epoch 79/100\n",
      "358/358 [==============================] - 2s 6ms/step - loss: 229483241456.3013 - val_loss: 337641769542.3068\n",
      "Epoch 80/100\n",
      "358/358 [==============================] - 2s 6ms/step - loss: 226594220747.7647 - val_loss: 349983972301.1857\n",
      "Epoch 81/100\n",
      "358/358 [==============================] - 2s 6ms/step - loss: 213580060036.6034 - val_loss: 357300924374.2288\n",
      "Epoch 82/100\n",
      "358/358 [==============================] - 2s 6ms/step - loss: 220329352476.2112 - val_loss: 338063457757.5141\n",
      "Epoch 83/100\n",
      "358/358 [==============================] - 2s 6ms/step - loss: 231733086141.0136 - val_loss: 337229112013.7553\n",
      "Epoch 84/100\n",
      "358/358 [==============================] - 2s 5ms/step - loss: 216263541269.7160 - val_loss: 338431803509.8002\n",
      "Epoch 85/100\n",
      "358/358 [==============================] - 2s 5ms/step - loss: 224810677245.1222 - val_loss: 337203646241.0226\n",
      "Epoch 86/100\n",
      "358/358 [==============================] - 2s 5ms/step - loss: 202477539030.1077 - val_loss: 342377040930.5536\n",
      "Epoch 87/100\n",
      "358/358 [==============================] - 2s 6ms/step - loss: 231929437377.2982 - val_loss: 336794777399.1017\n",
      "Epoch 88/100\n",
      "358/358 [==============================] - 2s 5ms/step - loss: 205439942539.4198 - val_loss: 335897766754.5985\n",
      "Epoch 89/100\n",
      "358/358 [==============================] - 2s 5ms/step - loss: 219323213734.8684 - val_loss: 337839318605.7451\n",
      "Epoch 90/100\n",
      "358/358 [==============================] - 2s 5ms/step - loss: 210969157430.4099 - val_loss: 339720980545.5763\n",
      "Epoch 91/100\n",
      "358/358 [==============================] - 2s 5ms/step - loss: 219898633178.3390 - val_loss: 334217354211.3164\n",
      "Epoch 92/100\n",
      "358/358 [==============================] - 2s 5ms/step - loss: 212006392484.3210 - val_loss: 344677878847.8584\n",
      "Epoch 93/100\n",
      "358/358 [==============================] - 2s 5ms/step - loss: 208031147461.7654 - val_loss: 332680581817.3107\n",
      "Epoch 94/100\n",
      "358/358 [==============================] - 2s 6ms/step - loss: 196605767053.4482 - val_loss: 332619483535.3720\n",
      "Epoch 95/100\n",
      "358/358 [==============================] - 2s 5ms/step - loss: 211728523267.0675 - val_loss: 333016328336.5649\n",
      "Epoch 96/100\n",
      "358/358 [==============================] - 2s 5ms/step - loss: 224611513040.9358 - val_loss: 329593165620.7769\n",
      "Epoch 97/100\n",
      "358/358 [==============================] - 2s 5ms/step - loss: 201669151212.0517 - val_loss: 340149252847.5367\n",
      "Epoch 98/100\n",
      "358/358 [==============================] - 2s 5ms/step - loss: 217327687255.1808 - val_loss: 340471632506.9484\n",
      "Epoch 99/100\n",
      "358/358 [==============================] - 2s 5ms/step - loss: 211691245213.8617 - val_loss: 338511847590.6667\n",
      "Epoch 100/100\n",
      "358/358 [==============================] - 2s 5ms/step - loss: 205819320088.2702 - val_loss: 339590592113.8058\n"
     ]
    }
   ],
   "source": [
    "y = text_array[:, -1]\n",
    "x_train, x_test, y_train, y_test = train_test_split(\n",
    "    X, y, test_size=0.33, random_state=42)\n",
    "\n",
    "model = Sequential()\n",
    "model.add(Conv2D(32, kernel_size=(3, 3),\n",
    "                 activation='relu',\n",
    "                 input_shape=(row, col, 12)))\n",
    "model.add(MaxPooling2D(pool_size=(2, 2)))\n",
    "model.add(Dropout(0.25))\n",
    "model.add(Flatten())\n",
    "model.add(Dense(128, activation='relu'))\n",
    "model.add(Dropout(0.5))\n",
    "model.add(Dense(1, activation='linear'))\n",
    "\n",
    "model.compile(loss=keras.losses.mean_squared_error,\n",
    "              optimizer=keras.optimizers.Adadelta())\n",
    "\n",
    "model.fit(x_train, y_train,\n",
    "          batch_size=1,\n",
    "          epochs=100,\n",
    "          verbose=1,\n",
    "          validation_data=(x_test, y_test))\n",
    "score = model.evaluate(x_test, y_test, verbose=0)"
   ]
  },
  {
   "cell_type": "code",
   "execution_count": null,
   "metadata": {},
   "outputs": [],
   "source": []
  }
 ],
 "metadata": {
  "kernelspec": {
   "display_name": "Python 3",
   "language": "python",
   "name": "python3"
  },
  "language_info": {
   "codemirror_mode": {
    "name": "ipython",
    "version": 3
   },
   "file_extension": ".py",
   "mimetype": "text/x-python",
   "name": "python",
   "nbconvert_exporter": "python",
   "pygments_lexer": "ipython3",
   "version": "3.7.3"
  }
 },
 "nbformat": 4,
 "nbformat_minor": 2
}
